{
 "cells": [
  {
   "cell_type": "code",
   "execution_count": 8,
   "metadata": {},
   "outputs": [
    {
     "name": "stdout",
     "output_type": "stream",
     "text": [
      "Enter Magnitude of Triangle Base: 2\n",
      "Enter Magnitude of Triangle Height: 9\n",
      "Area of a Triangle with Height 9 and Base 2 is 9.0\n"
     ]
    }
   ],
   "source": [
    "b=int(input(\"Enter Magnitude of Triangle Base: \"))\n",
    "h=int(input(\"Enter Magnitude of Triangle Height: \"))\n",
    "area=(b*h)/2\n",
    "print(\"Area of a Triangle with Height \"+str(h)+\" and Base \"+str(b)+\" is \"+str(area))"
   ]
  },
  {
   "cell_type": "code",
   "execution_count": null,
   "metadata": {},
   "outputs": [],
   "source": []
  },
  {
   "cell_type": "code",
   "execution_count": null,
   "metadata": {},
   "outputs": [],
   "source": []
  }
 ],
 "metadata": {
  "kernelspec": {
   "display_name": "Python 3",
   "language": "python",
   "name": "python3"
  },
  "language_info": {
   "codemirror_mode": {
    "name": "ipython",
    "version": 3
   },
   "file_extension": ".py",
   "mimetype": "text/x-python",
   "name": "python",
   "nbconvert_exporter": "python",
   "pygments_lexer": "ipython3",
   "version": "3.7.3"
  }
 },
 "nbformat": 4,
 "nbformat_minor": 2
}
