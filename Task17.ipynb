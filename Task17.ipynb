{
 "cells": [
  {
   "cell_type": "code",
   "execution_count": 1,
   "metadata": {},
   "outputs": [
    {
     "name": "stdout",
     "output_type": "stream",
     "text": [
      "Enter Binary Number: 101\n",
      "Decimal Representation of 101 is\n",
      "5\n"
     ]
    }
   ],
   "source": [
    "def BinaryToDecimal(num):\n",
    "    binary=num\n",
    "    decimal,i,n=0,0,0\n",
    "    while(num!=0):\n",
    "        rem=num%10\n",
    "        decimal=decimal+rem*pow(2,i)\n",
    "        num=int(num/10)\n",
    "        i=i+1\n",
    "    print(decimal)        \n",
    "\n",
    "if __name__=='__main__':\n",
    "    bin_value=int(input(\"Enter Binary Number: \"))\n",
    "    print(\"Decimal Representation of\",bin_value,\"is\")\n",
    "    BinaryToDecimal(bin_value)\n"
   ]
  },
  {
   "cell_type": "code",
   "execution_count": null,
   "metadata": {},
   "outputs": [],
   "source": []
  }
 ],
 "metadata": {
  "kernelspec": {
   "display_name": "Python 3",
   "language": "python",
   "name": "python3"
  },
  "language_info": {
   "codemirror_mode": {
    "name": "ipython",
    "version": 3
   },
   "file_extension": ".py",
   "mimetype": "text/x-python",
   "name": "python",
   "nbconvert_exporter": "python",
   "pygments_lexer": "ipython3",
   "version": "3.7.3"
  }
 },
 "nbformat": 4,
 "nbformat_minor": 2
}
