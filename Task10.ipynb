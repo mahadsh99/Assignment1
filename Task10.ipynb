{
 "cells": [
  {
   "cell_type": "code",
   "execution_count": null,
   "metadata": {},
   "outputs": [],
   "source": [
    "principalAmount=float(input(\"Enter Principal Amount \"))\n",
    "rateOfInterest=float(input(\"Enter Rate of Interest In Percentage \"))\n",
    "yearsOfInvestment=float(input(\"Enter Years of Investment \"))\n",
    "\n",
    "interest=principalAmount+(principalAmount*rateOfInterest*yearsOfInvestment)\n",
    "print(\"After\",yearsOfInvestment,\"years your principal amount\",principalAmount,\"over an interest rate of\",rateOfInterest,\"% will be\",interest)\n"
   ]
  }
 ],
 "metadata": {
  "kernelspec": {
   "display_name": "Python 3",
   "language": "python",
   "name": "python3"
  },
  "language_info": {
   "codemirror_mode": {
    "name": "ipython",
    "version": 3
   },
   "file_extension": ".py",
   "mimetype": "text/x-python",
   "name": "python",
   "nbconvert_exporter": "python",
   "pygments_lexer": "ipython3",
   "version": "3.7.3"
  }
 },
 "nbformat": 4,
 "nbformat_minor": 2
}
