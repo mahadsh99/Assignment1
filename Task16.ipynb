{
 "cells": [
  {
   "cell_type": "code",
   "execution_count": 1,
   "metadata": {},
   "outputs": [
    {
     "name": "stdout",
     "output_type": "stream",
     "text": [
      "Enter Decimal Number: 5\n",
      "Binary Representation of 5 is\n",
      "0101"
     ]
    }
   ],
   "source": [
    "def DecimalToBinary(num):\n",
    "    if(num!=0):\n",
    "        DecimalToBinary(int(num/2))\n",
    "    print(num%2,end='')  \n",
    "    \n",
    "if __name__=='__main__':\n",
    "    dec_value=int(input(\"Enter Decimal Number: \"))\n",
    "    print(\"Binary Representation of\",dec_value,\"is\")\n",
    "    DecimalToBinary(dec_value)\n",
    "    \n",
    "   \n",
    "    "
   ]
  },
  {
   "cell_type": "code",
   "execution_count": null,
   "metadata": {},
   "outputs": [],
   "source": []
  }
 ],
 "metadata": {
  "kernelspec": {
   "display_name": "Python 3",
   "language": "python",
   "name": "python3"
  },
  "language_info": {
   "codemirror_mode": {
    "name": "ipython",
    "version": 3
   },
   "file_extension": ".py",
   "mimetype": "text/x-python",
   "name": "python",
   "nbconvert_exporter": "python",
   "pygments_lexer": "ipython3",
   "version": "3.7.3"
  }
 },
 "nbformat": 4,
 "nbformat_minor": 2
}
