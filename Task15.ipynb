{
 "cells": [
  {
   "cell_type": "code",
   "execution_count": 1,
   "metadata": {},
   "outputs": [
    {
     "name": "stdout",
     "output_type": "stream",
     "text": [
      "Enter Number: 15\n",
      "Sum of 15 is 6\n"
     ]
    }
   ],
   "source": [
    "num=int(input(\"Enter Number: \"))\n",
    "onum=num\n",
    "sum=0\n",
    "while(num!=0):\n",
    "    digits=num%10\n",
    "    num=int(num/10)\n",
    "    sum=sum+digits\n",
    "print(\"Sum of\",onum,\"is\",sum)    \n"
   ]
  },
  {
   "cell_type": "code",
   "execution_count": null,
   "metadata": {},
   "outputs": [],
   "source": []
  }
 ],
 "metadata": {
  "kernelspec": {
   "display_name": "Python 3",
   "language": "python",
   "name": "python3"
  },
  "language_info": {
   "codemirror_mode": {
    "name": "ipython",
    "version": 3
   },
   "file_extension": ".py",
   "mimetype": "text/x-python",
   "name": "python",
   "nbconvert_exporter": "python",
   "pygments_lexer": "ipython3",
   "version": "3.7.3"
  }
 },
 "nbformat": 4,
 "nbformat_minor": 2
}
