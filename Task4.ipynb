{
 "cells": [
  {
   "cell_type": "code",
   "execution_count": 1,
   "metadata": {},
   "outputs": [
    {
     "name": "stdout",
     "output_type": "stream",
     "text": [
      "Enter Date1 12\n",
      "Enter Month1 12\n",
      "Enter Year1 18\n",
      "Enter Date2 16\n",
      "Enter Month2 12\n",
      "Enter Year2 18\n",
      "There is  4  days in between  12 / 12 / 18  and  16 / 12 / 18\n"
     ]
    }
   ],
   "source": [
    "from datetime import date\n",
    "dd1=int(input(\"Enter Date1 \"))\n",
    "mm1=int(input(\"Enter Month1 \"))\n",
    "yy1=int(input(\"Enter Year1 \"))\n",
    "dd2=int(input(\"Enter Date2 \"))\n",
    "mm2=int(input(\"Enter Month2 \"))\n",
    "yy2=int(input(\"Enter Year2 \"))\n",
    "fDate=date(yy1,mm1,dd1)\n",
    "sDate=date(yy2,mm2,dd2)\n",
    "difference=abs(fDate-sDate)\n",
    "print(\"There is \",difference.days,\" days in between \",dd1,\"/\",mm1,\"/\",yy1,\" and \",dd2,\"/\",mm2,\"/\",yy2)"
   ]
  },
  {
   "cell_type": "code",
   "execution_count": null,
   "metadata": {},
   "outputs": [],
   "source": []
  }
 ],
 "metadata": {
  "kernelspec": {
   "display_name": "Python 3",
   "language": "python",
   "name": "python3"
  },
  "language_info": {
   "codemirror_mode": {
    "name": "ipython",
    "version": 3
   },
   "file_extension": ".py",
   "mimetype": "text/x-python",
   "name": "python",
   "nbconvert_exporter": "python",
   "pygments_lexer": "ipython3",
   "version": "3.7.3"
  }
 },
 "nbformat": 4,
 "nbformat_minor": 2
}
