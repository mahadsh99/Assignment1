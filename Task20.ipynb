{
 "cells": [
  {
   "cell_type": "code",
   "execution_count": 7,
   "metadata": {},
   "outputs": [
    {
     "name": "stdout",
     "output_type": "stream",
     "text": [
      "Enter String: abc  123  <>  \n",
      "Alphabets: 3\n",
      "Numbers: 3\n",
      "Spaces: 6\n",
      "Special Characters: 2\n"
     ]
    }
   ],
   "source": [
    "string=input(\"Enter String: \")\n",
    "alpha=0\n",
    "digit=0\n",
    "special=0\n",
    "space=0\n",
    "for i in string:\n",
    "    if(i.isalpha()):\n",
    "        alpha=alpha+1\n",
    "    elif(i.isdigit()):\n",
    "        digit=digit+1\n",
    "    elif(i.isspace()):\n",
    "        space=space+1\n",
    "    else:\n",
    "        special=special+1\n",
    "print(\"Alphabets: \"+str(alpha))\n",
    "print(\"Numbers: \"+str(digit))\n",
    "print(\"Spaces: \"+str(space))\n",
    "print(\"Special Characters: \"+str(special))\n",
    "        "
   ]
  },
  {
   "cell_type": "code",
   "execution_count": null,
   "metadata": {},
   "outputs": [],
   "source": []
  }
 ],
 "metadata": {
  "kernelspec": {
   "display_name": "Python 3",
   "language": "python",
   "name": "python3"
  },
  "language_info": {
   "codemirror_mode": {
    "name": "ipython",
    "version": 3
   },
   "file_extension": ".py",
   "mimetype": "text/x-python",
   "name": "python",
   "nbconvert_exporter": "python",
   "pygments_lexer": "ipython3",
   "version": "3.7.3"
  }
 },
 "nbformat": 4,
 "nbformat_minor": 2
}
